{
 "cells": [
  {
   "cell_type": "markdown",
   "metadata": {},
   "source": [
    "In the dataset under examination, the labels are defined as follows:\n",
    "- CT: Allegheny County Census Tract\n",
    "- EPAD: Total number of Allegheny County residents who were effectively enrolled for at least 90 continuous days during the 2015 calendar year (January 1 - December 31)\n",
    "- EPAN: Total number of enrolled members who met the denominator criteria and had at least one Depressive Disorder-related medication claim\n",
    "- EWAD: Total number of female members who are Allegheny County residents and were effectively enrolled for at least 90 continuous days during the 2015 calendar year (January 1 - December 31)\n",
    "- EWAN: Total number of female members who met the denominator criteria and had at least one Depressive Disorder-related medication claim\n",
    "- EMAN: Total number of male members who met the denominator criteria and had at least one Depressive Disorder-related medication claim\n",
    "\n",
    "- The Pandas library's .max() method was employed to identify the highest values in each column. \n",
    "    - The maximum values for each label are 6394, 687, 3249, 416, 3145, and 271, respectively. \n",
    "    - These values are found in row 102 of the Allegheny County Census Tract, corresponding to tract number 409000, located in Pine Township. \n",
    "    - This result indicates that Pine Township had the highest rate of depression in the analyzed data.\n",
    "    \n",
    "- The Pandas library's .min() method was utilized to find the lowest values in each column.\n",
    "    - The minimum values for each label are 4, 0, 3, 0, 1, and 0, respectively. \n",
    "    - These values appear in rows 389, 390, 389, 390, 389, and 389, respectively. \n",
    "    - The lowest values (0) are in rows 390 and 389 of the Allegheny County Census Tract. The corresponding tract numbers are 980000 and 980100, both located in Pittsburgh. \n",
    "    - This result suggests that the specified areas of Pittsburgh have the lowest number of depression cases in the dataset.\n"
   ]
  }
 ],
 "metadata": {
  "kernelspec": {
   "display_name": "Python 3",
   "language": "python",
   "name": "python3"
  },
  "language_info": {
   "codemirror_mode": {
    "name": "ipython",
    "version": 3
   },
   "file_extension": ".py",
   "mimetype": "text/x-python",
   "name": "python",
   "nbconvert_exporter": "python",
   "pygments_lexer": "ipython3",
   "version": "3.8.3"
  }
 },
 "nbformat": 4,
 "nbformat_minor": 4
}
