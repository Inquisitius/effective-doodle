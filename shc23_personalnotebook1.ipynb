{
 "cells": [
  {
   "cell_type": "code",
   "execution_count": 4,
   "metadata": {},
   "outputs": [
    {
     "name": "stdout",
     "output_type": "stream",
     "text": [
      "Total number of EPAD: 572861\n",
      "Total number of EPAN: 80491\n",
      "Total number of EWAD: 310595\n",
      "Total number of EWAN: 53283\n",
      "Total number of EMAD: 262266\n",
      "Total number of EMAN: 27208\n"
     ]
    }
   ],
   "source": [
    "import pandas as pd\n",
    "filename = \"Final Project-ava/depression_all_2016.csv\"\n",
    "df = pd.read_csv(filename)\n",
    "total_EPAD = df['EPAD'].sum()\n",
    "total_EPAN = df['EPAN'].sum()\n",
    "total_EWAD = df['EWAD'].sum()\n",
    "total_EWAN = df['EWAN'].sum()\n",
    "total_EMAD = df['EMAD'].sum()\n",
    "total_EMAN = df['EMAN'].sum()\n",
    "print(\"Total number of EPAD:\", total_EPAD)\n",
    "print(\"Total number of EPAN:\", total_EPAN)\n",
    "print(\"Total number of EWAD:\", total_EWAD)\n",
    "print(\"Total number of EWAN:\", total_EWAN)\n",
    "print(\"Total number of EMAD:\", total_EMAD)\n",
    "print(\"Total number of EMAN:\", total_EMAN)"
   ]
  },
  {
   "cell_type": "code",
   "execution_count": 5,
   "metadata": {},
   "outputs": [
    {
     "name": "stdout",
     "output_type": "stream",
     "text": [
      "Largest number in EPAD column: 6394\n",
      "Largest number in EPAN column: 687\n",
      "Largest number in EWAD column: 3249\n",
      "Largest number in EWAN column: 416\n",
      "Largest number in EMAD column: 3145\n",
      "Largest number in EMAN column: 271\n"
     ]
    }
   ],
   "source": [
    "max_EPAD = df['EPAD'].max()\n",
    "max_EPAN = df['EPAN'].max()\n",
    "max_EWAD = df['EWAD'].max()\n",
    "max_EWAN = df['EWAN'].max()\n",
    "max_EMAD = df['EMAD'].max()\n",
    "max_EMAN = df['EMAN'].max()\n",
    "\n",
    "print(\"Largest number in EPAD column:\", max_EPAD)\n",
    "print(\"Largest number in EPAN column:\", max_EPAN)\n",
    "print(\"Largest number in EWAD column:\", max_EWAD)\n",
    "print(\"Largest number in EWAN column:\", max_EWAN)\n",
    "print(\"Largest number in EMAD column:\", max_EMAD)\n",
    "print(\"Largest number in EMAN column:\", max_EMAN)"
   ]
  },
  {
   "cell_type": "code",
   "execution_count": 12,
   "metadata": {},
   "outputs": [
    {
     "name": "stdout",
     "output_type": "stream",
     "text": [
      "Row number for largest number in EPAD column: 102\n",
      "Row number for largest number in EPAN column: 102\n",
      "Row number for largest number in EWAD column: 102\n",
      "Row number for largest number in EWAN column: 102\n",
      "Row number for largest number in EMAD column: 102\n",
      "Row number for largest number in EMAN column: 102\n"
     ]
    }
   ],
   "source": [
    "df = df.iloc[1:]\n",
    "\n",
    "max_EPAD_row = df['EPAD'].idxmax()\n",
    "max_EPAN_row = df['EPAN'].idxmax()\n",
    "max_EWAD_row = df['EWAD'].idxmax()\n",
    "max_EWAN_row = df['EWAN'].idxmax()\n",
    "max_EMAD_row = df['EMAD'].idxmax()\n",
    "max_EMAN_row = df['EMAN'].idxmax()\n",
    "\n",
    "print(\"Row number for largest number in EPAD column:\", max_EPAD_row + 1)\n",
    "print(\"Row number for largest number in EPAN column:\", max_EPAN_row + 1)\n",
    "print(\"Row number for largest number in EWAD column:\", max_EWAD_row + 1)\n",
    "print(\"Row number for largest number in EWAN column:\", max_EWAN_row + 1)\n",
    "print(\"Row number for largest number in EMAD column:\", max_EMAD_row + 1)\n",
    "print(\"Row number for largest number in EMAN column:\", max_EMAN_row + 1)"
   ]
  },
  {
   "cell_type": "code",
   "execution_count": 14,
   "metadata": {},
   "outputs": [
    {
     "name": "stdout",
     "output_type": "stream",
     "text": [
      "Smallest number in EPAD column: 4\n",
      "Smallest number in EPAN column: 0\n",
      "Smallest number in EWAD column: 3\n",
      "Smallest number in EWAN column: 0\n",
      "Smallest number in EMAD column: 1\n",
      "Smallest number in EMAN column: 0\n"
     ]
    }
   ],
   "source": [
    "df = df.iloc[1:]\n",
    "\n",
    "min_EPAD = df['EPAD'].min()\n",
    "min_EPAN = df['EPAN'].min()\n",
    "min_EWAD = df['EWAD'].min()\n",
    "min_EWAN = df['EWAN'].min()\n",
    "min_EMAD = df['EMAD'].min()\n",
    "min_EMAN = df['EMAN'].min()\n",
    "\n",
    "print(\"Smallest number in EPAD column:\", min_EPAD)\n",
    "print(\"Smallest number in EPAN column:\", min_EPAN)\n",
    "print(\"Smallest number in EWAD column:\", min_EWAD)\n",
    "print(\"Smallest number in EWAN column:\", min_EWAN)\n",
    "print(\"Smallest number in EMAD column:\", min_EMAD)\n",
    "print(\"Smallest number in EMAN column:\", min_EMAN)"
   ]
  },
  {
   "cell_type": "code",
   "execution_count": 13,
   "metadata": {},
   "outputs": [
    {
     "name": "stdout",
     "output_type": "stream",
     "text": [
      "Row number for smallest number in EPAD column: 389\n",
      "Row number for smallest number in EPAN column: 390\n",
      "Row number for smallest number in EWAD column: 389\n",
      "Row number for smallest number in EWAN column: 390\n",
      "Row number for smallest number in EMAD column: 389\n",
      "Row number for smallest number in EMAN column: 389\n"
     ]
    }
   ],
   "source": [
    "df = df.iloc[1:]\n",
    "\n",
    "min_EPAD_row = df['EPAD'].idxmin()\n",
    "min_EPAN_row = df['EPAN'].idxmin()\n",
    "min_EWAD_row = df['EWAD'].idxmin()\n",
    "min_EWAN_row = df['EWAN'].idxmin()\n",
    "min_EMAD_row = df['EMAD'].idxmin()\n",
    "min_EMAN_row = df['EMAN'].idxmin()\n",
    "\n",
    "print(\"Row number for smallest number in EPAD column:\", min_EPAD_row + 1)\n",
    "print(\"Row number for smallest number in EPAN column:\", min_EPAN_row + 1)\n",
    "print(\"Row number for smallest number in EWAD column:\", min_EWAD_row + 1)\n",
    "print(\"Row number for smallest number in EWAN column:\", min_EWAN_row + 1)\n",
    "print(\"Row number for smallest number in EMAD column:\", min_EMAD_row + 1)\n",
    "print(\"Row number for smallest number in EMAN column:\", min_EMAN_row + 1)"
   ]
  }
 ],
 "metadata": {
  "kernelspec": {
   "display_name": "Python 3",
   "language": "python",
   "name": "python3"
  },
  "language_info": {
   "codemirror_mode": {
    "name": "ipython",
    "version": 3
   },
   "file_extension": ".py",
   "mimetype": "text/x-python",
   "name": "python",
   "nbconvert_exporter": "python",
   "pygments_lexer": "ipython3",
   "version": "3.8.3"
  }
 },
 "nbformat": 4,
 "nbformat_minor": 4
}
